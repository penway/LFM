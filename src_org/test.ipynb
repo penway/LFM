{
 "cells": [
  {
   "cell_type": "code",
   "execution_count": 58,
   "metadata": {},
   "outputs": [
    {
     "name": "stdout",
     "output_type": "stream",
     "text": [
      "1280\n"
     ]
    }
   ],
   "source": [
    "import torch\n",
    "\n",
    "res = 0\n",
    "r = 0\n",
    "while r < 128:\n",
    "    x = torch.randn((100,))\n",
    "    y = torch.randn((100,))\n",
    "\n",
    "    dr = torch.dot(x[0:99], y[0:99])\n",
    "    y[99] = - dr / x[99]\n",
    "    # print(torch.dot(x, y))\n",
    "    if abs(y[99]) > 1.2:\n",
    "        res += 1\n",
    "    else:\n",
    "        r += 1\n",
    "\n",
    "print(res)"
   ]
  },
  {
   "cell_type": "code",
   "execution_count": 20,
   "metadata": {},
   "outputs": [],
   "source": [
    "batch_size = 128\n",
    "z_dim = 100\n",
    "\n",
    "noise = torch.zeros((batch_size, z_dim, 1, 1))\n",
    "count = 0\n",
    "while count < batch_size / 2:\n",
    "    n1 = torch.randn((z_dim,))\n",
    "    n2 = torch.randn((z_dim,))\n",
    "    dr = torch.dot(n1[0:z_dim-1], n2[0:z_dim-1])\n",
    "    n2[z_dim-1] = -dr / n1[z_dim-1]\n",
    "    if abs(n2[z_dim-1]) > 1:\n",
    "        continue\n",
    "    else:\n",
    "        noise[count] = n1.view((z_dim, 1, 1))\n",
    "        noise[int(count + batch_size / 2)] = n2.view((z_dim, 1, 1))\n",
    "        count += 1"
   ]
  },
  {
   "cell_type": "code",
   "execution_count": 164,
   "metadata": {},
   "outputs": [
    {
     "name": "stdout",
     "output_type": "stream",
     "text": [
      "tensor(-1.)\n"
     ]
    }
   ],
   "source": [
    "x = torch.full((100,), 0.1)\n",
    "y = torch.full((100,), -0.1)\n",
    "print(torch.dot(x, y))"
   ]
  },
  {
   "cell_type": "code",
   "execution_count": 4,
   "metadata": {},
   "outputs": [
    {
     "name": "stdout",
     "output_type": "stream",
     "text": [
      "0 389.7477783331362\n",
      "500 271.6480859548411\n",
      "1000 237.00541624405\n",
      "1500 196.04893542853156\n",
      "2000 159.52740002250573\n",
      "2500 162.24446191260955\n",
      "3000 151.17260640145747\n",
      "3500 144.2547848913099\n",
      "4000 156.6980431544764\n",
      "4500 138.68021547670793\n",
      "5000 145.55687221743585\n",
      "5500 153.26525823746812\n",
      "6000 136.32118668852075\n",
      "6500 177.53039942133444\n",
      "7000 156.01503181976852\n",
      "7500 188.16385001206788\n",
      "8000 183.19738296521854\n",
      "8500 166.1329251629686\n",
      "9000 175.56462756337476\n",
      "9500 169.40384967745345\n",
      "10000 246.0822336343413\n",
      "10500 164.18684525179611\n",
      "11000 211.31492729782656\n",
      "11500 162.19930232983324\n",
      "12000 157.25904136996903\n",
      "12500 139.72411644049217\n",
      "13000 206.8496608176817\n",
      "13500 159.96079735946415\n"
     ]
    }
   ],
   "source": [
    "from pytorch_fid.fid_score import calculate_fid_given_paths as fid\n",
    "\n",
    "for i in range(0, 13501, 500):\n",
    "    fid_score = fid (\n",
    "            paths=[\n",
    "                \"D:\\\\regis\\\\Documents\\\\Datasets\\\\mett.npz\",\n",
    "                \"E:\\\\Caldron\\LFM\\\\result\\\\MET_DC\\\\pics\\\\{}\\\\\".format(i),\n",
    "                ],\n",
    "            batch_size=128,\n",
    "            device=\"cuda\",\n",
    "            dims=2048,\n",
    "            num_workers=0\n",
    "        )\n",
    "    print(i, fid_score)\n"
   ]
  },
  {
   "cell_type": "code",
   "execution_count": null,
   "metadata": {},
   "outputs": [],
   "source": [
    "# MET LFM\n",
    "# 0 391.047701092771\n",
    "# 500 280.47971315970324\n",
    "# 1000 311.890606016756\n",
    "# 1500 294.6858471390167\n",
    "# 2000 288.1751453474857\n",
    "# 2500 281.0567807535361\n",
    "# 3000 226.51993513687512\n",
    "# 3500 198.52441955868065\n",
    "# 4000 187.22080351236804\n",
    "# 4500 164.69923034024856\n",
    "# 5000 256.71592020219157\n",
    "# 5500 151.9132371935997\n",
    "# 6000 167.96002074392797\n",
    "# 6500 138.64842851970553\n",
    "# 7000 133.35013234406438\n",
    "# 7500 154.35878070524734\n",
    "# 8000 136.659459735603\n",
    "# 8500 119.30491159520082\n",
    "# 9000 126.9835250605156\n",
    "# 9500 119.7015251869185\n",
    "# 10000 117.42266385284742\n",
    "# 10500 115.17733730365319\n",
    "# 11000 130.19156179343196\n",
    "# 11500 121.57365262019277\n",
    "# 12000 121.70134914286626\n",
    "# 12500 119.94641970104414\n",
    "# 13000 125.77616871892707"
   ]
  }
 ],
 "metadata": {
  "kernelspec": {
   "display_name": "Python 3.10.4 ('ganbox')",
   "language": "python",
   "name": "python3"
  },
  "language_info": {
   "codemirror_mode": {
    "name": "ipython",
    "version": 3
   },
   "file_extension": ".py",
   "mimetype": "text/x-python",
   "name": "python",
   "nbconvert_exporter": "python",
   "pygments_lexer": "ipython3",
   "version": "3.10.4"
  },
  "orig_nbformat": 4,
  "vscode": {
   "interpreter": {
    "hash": "82da30e06c4bc9a4f28e420a40ee7aff95ef58f2effd3be145ba3d63dd94143d"
   }
  }
 },
 "nbformat": 4,
 "nbformat_minor": 2
}
