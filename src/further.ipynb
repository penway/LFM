{
 "cells": [
  {
   "cell_type": "code",
   "execution_count": 2,
   "metadata": {},
   "outputs": [],
   "source": [
    "import torch\n",
    "\n",
    "G = torch.load(\"E:\\\\Caldron\\\\LFM\\\\result\\\\LFMzabs_0.1_2\\\\models\\\\55500G.pth\")"
   ]
  },
  {
   "cell_type": "code",
   "execution_count": null,
   "metadata": {},
   "outputs": [],
   "source": [
    "def gen_noise_pair():\n",
    "    z_dim = 100\n",
    "    batch_size = 1\n",
    "\n",
    "    noise = torch.zeros((batch_size, z_dim, 1, 1))\n",
    "    count = 0\n",
    "    while count < batch_size / 2:\n",
    "        n1 = torch.randn((z_dim,)) \n",
    "        n2 = torch.randn((z_dim,))\n",
    "        dr = torch.dot(n1[0:z_dim-1], n2[0:z_dim-1])\n",
    "        n2[z_dim-1] = -dr / n1[z_dim-1]\n",
    "        if abs(n2[z_dim-1]) > 1.5:\n",
    "            continue\n",
    "        else:\n",
    "            noise[count] = n1.view((z_dim, 1, 1))\n",
    "            noise[int(count + batch_size / 2)] = n2.view((z_dim, 1, 1))\n",
    "            count += 1"
   ]
  }
 ],
 "metadata": {
  "kernelspec": {
   "display_name": "Python 3.10.4 ('ganbox')",
   "language": "python",
   "name": "python3"
  },
  "language_info": {
   "codemirror_mode": {
    "name": "ipython",
    "version": 3
   },
   "file_extension": ".py",
   "mimetype": "text/x-python",
   "name": "python",
   "nbconvert_exporter": "python",
   "pygments_lexer": "ipython3",
   "version": "3.10.4"
  },
  "orig_nbformat": 4,
  "vscode": {
   "interpreter": {
    "hash": "82da30e06c4bc9a4f28e420a40ee7aff95ef58f2effd3be145ba3d63dd94143d"
   }
  }
 },
 "nbformat": 4,
 "nbformat_minor": 2
}
